{
 "cells": [
  {
   "cell_type": "markdown",
   "id": "25d7736c-ba17-4aff-b6bb-66eba20fbf4e",
   "metadata": {},
   "source": [
    "# Lab | Functions"
   ]
  },
  {
   "cell_type": "markdown",
   "id": "0c581062-8967-4d93-b06e-62833222f930",
   "metadata": {
    "tags": []
   },
   "source": [
    "## Exercise: Managing Customer Orders with Functions\n",
    "\n",
    "In the previous exercise, you improved the code for managing customer orders by using loops and flow control. Now, let's take it a step further and refactor the code by introducing functions.\n",
    "\n",
    "Follow the steps below to complete the exercise:\n",
    "\n",
    "1. Define a function named `initialize_inventory` that takes `products` as a parameter. Inside the function, implement the code for initializing the inventory dictionary using a loop and user input.\n",
    "\n",
    "2. Define a function named `get_customer_orders` that takes no parameters. Inside the function, implement the code for prompting the user to enter the product names using a loop. The function should return the `customer_orders` set.\n",
    "\n",
    "3. Define a function named `update_inventory` that takes `customer_orders` and `inventory` as parameters. Inside the function, implement the code for updating the inventory dictionary based on the customer orders.\n",
    "\n",
    "4. Define a function named `calculate_order_statistics` that takes `customer_orders` and `products` as parameters. Inside the function, implement the code for calculating the order statistics (total products ordered, and percentage of unique products ordered). The function should return these values.\n",
    "\n",
    "5. Define a function named `print_order_statistics` that takes `order_statistics` as a parameter. Inside the function, implement the code for printing the order statistics.\n",
    "\n",
    "6. Define a function named `print_updated_inventory` that takes `inventory` as a parameter. Inside the function, implement the code for printing the updated inventory.\n",
    "\n",
    "7. Call the functions in the appropriate sequence to execute the program and manage customer orders.\n",
    "\n",
    "Hints for functions:\n",
    "\n",
    "- Consider the input parameters required for each function and their return values.\n",
    "- Utilize function parameters and return values to transfer data between functions.\n",
    "- Test your functions individually to ensure they work correctly.\n",
    "\n",
    "\n"
   ]
  },
  {
   "cell_type": "code",
   "execution_count": 13,
   "id": "37295d16",
   "metadata": {},
   "outputs": [
    {
     "name": "stdout",
     "output_type": "stream",
     "text": [
      "{'t-shirt': 10, 'mug': 10, 'hat': 10, 'book': 10, 'keychain': 10}\n",
      "Updated inventory: {'t-shirt': 10, 'mug': 9, 'hat': 9, 'book': 9, 'keychain': 10}\n",
      "Order Statistics:\n",
      "Total products ordered:  3\n",
      "Percentage of products ordered: 6.38%\n"
     ]
    }
   ],
   "source": [
    "def get_customer_orders():\n",
    "    \"\"\"this function is designed to get input from the user for customer orders\"\"\"\n",
    "    quantity_user = \"\"\n",
    "    status_ordering= True\n",
    "    customer_orders = set()\n",
    "\n",
    "    while status_ordering == True:\n",
    "        customer_order = input(\"Enter the name of a product that the customer want's to order:\").replace(\" \", \"\") \n",
    "        continue_ordering = input(\"Do you want to continue ordering? (yes/no): \")\n",
    "        customer_order = customer_order.split(\",\") #deleting spaces so it can be split correctly and counted for the inventory\n",
    "        customer_orders = set(customer_order)\n",
    "        # customer_orders.append(customer_order) # creating the list dividing the input by commas.\n",
    "    \n",
    "        while continue_ordering.lower() not in [\"yes\", \"no\"]: # entrada valida\n",
    "            print(\"Please enter a valid answer (yes/no)\")\n",
    "            continue_ordering = input(\"Do you want to continue ordering? (yes/no): \")\n",
    "        if continue_ordering.lower() == \"no\":\n",
    "            status_ordering = False\n",
    "\n",
    "    return (customer_orders)\n",
    "\n",
    "\n",
    "\n",
    "def initialize_inventory():\n",
    "                        \n",
    "    \"\"\" This is desing to get input for the inventory\"\"\"\n",
    "    products = [\"t-shirt\", \"mug\", \"hat\", \"book\", \"keychain\"]\n",
    "    inventory = { product: 0 for product in products}\n",
    "\n",
    "    sum_inventory_final = 0\n",
    "        \n",
    "    for product in products: \n",
    "        \n",
    "        quantity_user = input(f\"Enter the initial amount for product: {product} in the inventory\")\n",
    "        \n",
    "        while quantity_user.isdigit() == False or int(quantity_user) < 0: \n",
    "            #if it is not a number or less than 0, we break the loop and print a message\n",
    "            print(\"Quantity must be a number and greater than 0. Start again\") \n",
    "            quantity_user= input(f\"Enter the amount for products: {product}\")\n",
    "\n",
    "        inventory[product] = int(quantity_user) #adding the product as key and the quantity as value to the dictionary\n",
    "        sum_inventory_final += int(quantity_user) #adding the quantity to calculate the percentage at the end.\n",
    "    print(inventory) \n",
    "    return inventory\n",
    "    \n",
    "\n",
    "\n",
    "def update_inventory(list, dict):\n",
    "    \"\"\"This function updates the inventory based on customer orders\"\"\"\n",
    "    \n",
    "    for item in customer_orders:\n",
    "        if item in inventory:\n",
    "            inventory[item] = inventory[item] -1 #updating the inventory.\n",
    "    print(f\"Updated inventory: {inventory}\")\n",
    "    \n",
    "\n",
    "    return inventory\n",
    "    \n",
    "def calculate_order_statistics(customer_orders, products):\n",
    "    \n",
    "    sum_inventory_final=sum([value for value in inventory.values()])\n",
    "    total_products_ordered = len(customer_orders)\n",
    "    total_products_percentage=(len(customer_orders)/sum_inventory_final*100) \n",
    "    order_status = (total_products_ordered, total_products_percentage)\n",
    "\n",
    "    print(\"Order Statistics:\") #point 8 printing as requested\n",
    "    print(\"Total products ordered: \", total_products_ordered) #point 7 statistics 1 done\n",
    "    print(f\"Percentage of products ordered: {total_products_percentage:.2f}%\") #point 7 statistics 2 done\n",
    "\n",
    "\n",
    "\n",
    "inventory = initialize_inventory()\n",
    "customer_orders = get_customer_orders()\n",
    "update_inventory(customer_orders, inventory)\n",
    "calculate_order_statistics(customer_orders, list)"
   ]
  }
 ],
 "metadata": {
  "kernelspec": {
   "display_name": "Python 3",
   "language": "python",
   "name": "python3"
  },
  "language_info": {
   "codemirror_mode": {
    "name": "ipython",
    "version": 3
   },
   "file_extension": ".py",
   "mimetype": "text/x-python",
   "name": "python",
   "nbconvert_exporter": "python",
   "pygments_lexer": "ipython3",
   "version": "3.11.9"
  }
 },
 "nbformat": 4,
 "nbformat_minor": 5
}
